{
 "cells": [
  {
   "cell_type": "code",
   "execution_count": 5,
   "id": "c1b68330-cbd4-4250-99fc-5068874e2379",
   "metadata": {},
   "outputs": [],
   "source": [
    "import numpy as np\n",
    "import pandas as pd \n",
    "import datetime\n",
    "import pickle\n",
    "import shap\n",
    "\n",
    "from sklearn.model_selection import KFold\n",
    "from sklearn.metrics import classification_report\n",
    "from sklearn.svm import SVC\n",
    "from sklearn.preprocessing import StandardScaler\n",
    "from sklearn.compose import ColumnTransformer\n",
    "import matplotlib.pyplot as plt\n",
    "import matplotlib as mpl\n",
    "import bisect\n",
    "from IPython import display\n",
    "\n",
    "pd.set_option('display.max_columns', None)"
   ]
  },
  {
   "cell_type": "markdown",
   "id": "5ae38af6",
   "metadata": {},
   "source": [
    "# Create and save SHAP plots (all variables)"
   ]
  },
  {
   "cell_type": "code",
   "execution_count": 3,
   "id": "eaf54f5b-a92d-4bad-8b4a-f78c9b7f299a",
   "metadata": {},
   "outputs": [
    {
     "name": "stdout",
     "output_type": "stream",
     "text": [
      "men 1\n",
      "women 1\n",
      "men 2\n",
      "women 2\n",
      "men 3\n",
      "women 3\n",
      "men 4\n",
      "women 4\n",
      "men 5\n",
      "women 5\n"
     ]
    }
   ],
   "source": [
    "n = 100\n",
    "path = '../results/shap/'\n",
    "\n",
    "for nback in range(1,6):    \n",
    "    for i, sex in enumerate(['men', 'women']):\n",
    "        filename1 = 'Xshap' + '_' + sex + '_' + str(nback) + '_' + str(n) + '.pkl'\n",
    "        filename2 = 'shapvals'  + '_' + sex + '_' + str(nback) + '_' + str(n) + '.pkl'\n",
    "        \n",
    "        X_test = pickle.load(open(path+filename1, 'rb'))\n",
    "        shapvals = pickle.load(open(path+filename2, 'rb'))\n",
    "        \n",
    "        print(sex, nback)\n",
    "        plt.figure(figsize=(8, 8))\n",
    "        fig = shap.summary_plot(shapvals, X_test, show=False)\n",
    "        plt.gcf().axes[-1].set_aspect(100)\n",
    "        plt.gcf().axes[-1].set_box_aspect(100)\n",
    "        plt.savefig('../results/plots_shap/shapvals_'+sex+'_'+str(nback)+'.png', bbox_inches='tight')\n",
    "        plt.close()"
   ]
  },
  {
   "cell_type": "markdown",
   "id": "f2f7c843",
   "metadata": {},
   "source": [
    "# Create and save SHAP plots (only Hb variables)"
   ]
  },
  {
   "cell_type": "code",
   "execution_count": 4,
   "id": "359dc059",
   "metadata": {},
   "outputs": [
    {
     "name": "stdout",
     "output_type": "stream",
     "text": [
      "men 1\n",
      "women 1\n",
      "men 2\n",
      "women 2\n",
      "men 3\n",
      "women 3\n",
      "men 4\n",
      "women 4\n",
      "men 5\n",
      "women 5\n"
     ]
    }
   ],
   "source": [
    "n = 100\n",
    "path = '../results/shap_onlyhb/'\n",
    "\n",
    "for nback in range(1,6):    \n",
    "    for i, sex in enumerate(['men', 'women']):\n",
    "        filename1 = 'Xshap' + '_' + sex + '_' + str(nback) + '_' + str(n) + '.pkl'\n",
    "        filename2 = 'shapvals'  + '_' + sex + '_' + str(nback) + '_' + str(n) + '.pkl'\n",
    "        \n",
    "        X_test = pickle.load(open(path+filename1, 'rb'))\n",
    "        shapvals = pickle.load(open(path+filename2, 'rb'))\n",
    "        \n",
    "        print(sex, nback)\n",
    "        plt.figure(figsize=(8, 8))\n",
    "        fig = shap.summary_plot(shapvals, X_test, show=False)\n",
    "        plt.gcf().axes[-1].set_aspect(100)\n",
    "        plt.gcf().axes[-1].set_box_aspect(100)\n",
    "        plt.savefig('../results/plots_shap/onlyhb_shapvals_'+sex+'_'+str(nback)+'.png', bbox_inches='tight')\n",
    "        plt.close()"
   ]
  },
  {
   "cell_type": "markdown",
   "id": "61e3652b",
   "metadata": {},
   "source": [
    "# All SHAP plots (all variables)"
   ]
  },
  {
   "cell_type": "code",
   "execution_count": 6,
   "id": "e60454a2",
   "metadata": {},
   "outputs": [],
   "source": [
    "n = 100\n",
    "path = '../results/shap/'\n",
    "\n",
    "for nback in range(1,6):    \n",
    "    for i, sex in enumerate(['men', 'women']):\n",
    "        display.Image('../results/plots_shap/onlyhb_shapvals_'+sex+'_'+str(nback)+'.png')"
   ]
  }
 ],
 "metadata": {
  "kernelspec": {
   "display_name": "Python 3 (ipykernel)",
   "language": "python",
   "name": "python3"
  },
  "language_info": {
   "codemirror_mode": {
    "name": "ipython",
    "version": 3
   },
   "file_extension": ".py",
   "mimetype": "text/x-python",
   "name": "python",
   "nbconvert_exporter": "python",
   "pygments_lexer": "ipython3",
   "version": "3.9.12"
  }
 },
 "nbformat": 4,
 "nbformat_minor": 5
}
